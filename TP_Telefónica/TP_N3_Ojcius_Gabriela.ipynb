{
 "cells": [
  {
   "cell_type": "markdown",
   "metadata": {},
   "source": [
    "Escribir una clase llamada “Alumno” que contenga los siguientes atributos:\n",
    "Nombre\n",
    "Apellido\n",
    "Notas (este atributo debe ser una lista"
   ]
  },
  {
   "cell_type": "code",
   "execution_count": null,
   "metadata": {},
   "outputs": [],
   "source": [
    "class Alumno:\n",
    "  def __init__(self, nombre, apellido, notas):\n",
    "    self.nombre = nombre\n",
    "    self.apellido = apellido\n",
    "    self.notas = notas\n",
    "\n",
    "def cargar_datos():\n",
    "    nombre = input(\"Ingrese el nombre: \")\n",
    "    apellido = input(\"Ingrese el apellido: \")\n",
    "    nota = int(input(\"Ingrese una nota o 0 para finalizar: \"))\n",
    "    while nota != 0:\n",
    "        notas = []\n",
    "        if nota >= 1 and nota <= 10:\n",
    "            for i in notas:\n",
    "                notas.append(i)\n",
    "        else:\n",
    "            print(\"Error, la nota debe estar comprendida entre 1 y 10, ingrese nuevamente una nota o 0 para salir\")\n",
    "        sum_notas = sum(notas)\n",
    "        nota = input(\"Ingrese una nota o 0 para finalizar: \")\n",
    "    promedio = sum_notas / len(notas)\n",
    "    print(promedio)\n",
    "\n",
    "def estado():\n",
    "    if promedio >= 7:\n",
    "        print(\"Promociona\")\n",
    "    elif promedio < 4:\n",
    "        print(\"Recursa\")\n",
    "    else:\n",
    "        print(\"Final\")\n",
    "\n",
    "def __str__(self):\n",
    "    mensaje = self.nombre+\" \"+self.apellido+\", \"+promedio+\", \"+estado()\n",
    "    return mensaje"
   ]
  }
 ],
 "metadata": {
  "kernelspec": {
   "display_name": "Python 3.10.4 64-bit",
   "language": "python",
   "name": "python3"
  },
  "language_info": {
   "codemirror_mode": {
    "name": "ipython",
    "version": 3
   },
   "file_extension": ".py",
   "mimetype": "text/x-python",
   "name": "python",
   "nbconvert_exporter": "python",
   "pygments_lexer": "ipython3",
   "version": "3.10.4"
  },
  "orig_nbformat": 4,
  "vscode": {
   "interpreter": {
    "hash": "4f3af63e95baa9f337f3485852209c19a89079e77d4059d54986e003d19f9689"
   }
  }
 },
 "nbformat": 4,
 "nbformat_minor": 2
}
