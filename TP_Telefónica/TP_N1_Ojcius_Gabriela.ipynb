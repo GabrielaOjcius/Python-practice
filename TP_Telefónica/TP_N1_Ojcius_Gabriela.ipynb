{
 "cells": [
  {
   "cell_type": "markdown",
   "metadata": {},
   "source": [
    "Ejercicio 1\n",
    "Crear una función que reciba una cantidad variable de números enteros y \n",
    "retorne la suma de todos.\n",
    "Por ejemplo, si le pasamos los números 1,3 y 5, deberá devolver el número \n",
    "9.\n",
    "El código debe funcionar para cualquier cantidad de números que le \n",
    "pasemos como argumentos."
   ]
  },
  {
   "cell_type": "code",
   "execution_count": 20,
   "metadata": {},
   "outputs": [
    {
     "data": {
      "text/plain": [
       "6"
      ]
     },
     "execution_count": 20,
     "metadata": {},
     "output_type": "execute_result"
    }
   ],
   "source": [
    "def suma_total (*sumandos):\n",
    "    suma = 0\n",
    "    for i in sumandos:\n",
    "        suma += i\n",
    "    return suma\n",
    "\n",
    "suma_total (1, 2, 3)"
   ]
  },
  {
   "cell_type": "markdown",
   "metadata": {},
   "source": [
    "Ejercicio 2\n",
    "Escribir una función que, a partir de una lista pasada como argumento, \n",
    "retorne una lista de tuplas conteniendo todas las combinaciones de 2 \n",
    "números que sea posible formar, combinando a cada número con todos los \n",
    "números de la lista"
   ]
  },
  {
   "cell_type": "code",
   "execution_count": 23,
   "metadata": {},
   "outputs": [
    {
     "name": "stdout",
     "output_type": "stream",
     "text": [
      "[(1, 1), (1, 2), (1, 3), (2, 1), (2, 2), (2, 3), (3, 1), (3, 2), (3, 3)]\n"
     ]
    }
   ],
   "source": [
    "def conjunto_tuplas(lista):\n",
    "    lista_tuplas = []\n",
    "    for i in lista:\n",
    "        for j in lista:\n",
    "            tupla = (i,j)\n",
    "            lista_tuplas.append(tupla)\n",
    "    return lista_tuplas\n",
    "\n",
    "lista = 1, 2, 3\n",
    "print(conjunto_tuplas(lista))"
   ]
  }
 ],
 "metadata": {
  "kernelspec": {
   "display_name": "Python 3.10.4 64-bit",
   "language": "python",
   "name": "python3"
  },
  "language_info": {
   "codemirror_mode": {
    "name": "ipython",
    "version": 3
   },
   "file_extension": ".py",
   "mimetype": "text/x-python",
   "name": "python",
   "nbconvert_exporter": "python",
   "pygments_lexer": "ipython3",
   "version": "3.10.4"
  },
  "orig_nbformat": 4,
  "vscode": {
   "interpreter": {
    "hash": "4f3af63e95baa9f337f3485852209c19a89079e77d4059d54986e003d19f9689"
   }
  }
 },
 "nbformat": 4,
 "nbformat_minor": 2
}
