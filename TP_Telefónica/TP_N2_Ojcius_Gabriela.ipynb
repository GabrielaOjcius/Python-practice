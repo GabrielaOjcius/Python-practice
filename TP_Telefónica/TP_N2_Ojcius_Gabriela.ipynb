{
 "cells": [
  {
   "cell_type": "markdown",
   "metadata": {},
   "source": [
    "Ejercicio 1\n",
    "Generar una lista que contenga los números del 1 al 100, usando un FOR."
   ]
  },
  {
   "cell_type": "code",
   "execution_count": 16,
   "metadata": {},
   "outputs": [
    {
     "name": "stdout",
     "output_type": "stream",
     "text": [
      "[1, 2, 3, 4, 5, 6, 7, 8, 9, 10, 11, 12, 13, 14, 15, 16, 17, 18, 19, 20, 21, 22, 23, 24, 25, 26, 27, 28, 29, 30, 31, 32, 33, 34, 35, 36, 37, 38, 39, 40, 41, 42, 43, 44, 45, 46, 47, 48, 49, 50, 51, 52, 53, 54, 55, 56, 57, 58, 59, 60, 61, 62, 63, 64, 65, 66, 67, 68, 69, 70, 71, 72, 73, 74, 75, 76, 77, 78, 79, 80, 81, 82, 83, 84, 85, 86, 87, 88, 89, 90, 91, 92, 93, 94, 95, 96, 97, 98, 99, 100]\n"
     ]
    }
   ],
   "source": [
    "def crear_lista(n):\n",
    "    lista = []\n",
    "    for i in range(1, n+1):\n",
    "        lista.append(i)\n",
    "    return(lista)\n",
    "\n",
    "print(crear_lista(100)) "
   ]
  },
  {
   "cell_type": "markdown",
   "metadata": {},
   "source": [
    "Escribir una función lambda, usando FILTER, que me devuelva, en formato LISTA, todos los números pares que también sean múltiplos de 5, contenidos en dicha lista."
   ]
  },
  {
   "cell_type": "code",
   "execution_count": 4,
   "metadata": {},
   "outputs": [
    {
     "name": "stdout",
     "output_type": "stream",
     "text": [
      "[10, 20, 30, 40, 50, 60, 70, 80, 90, 100]\n"
     ]
    }
   ],
   "source": [
    "numeros = list(range(1,101))\n",
    "\n",
    "pares_mult5 = list(filter(lambda n: (n % 2 == 0) and (n % 5 == 0), numeros))\n",
    "\n",
    "print(pares_mult5)"
   ]
  },
  {
   "cell_type": "markdown",
   "metadata": {},
   "source": [
    "Ejercicio 2.\n",
    "Generar una lista, usando FOR con números del 1 al 100.\n",
    "Escribir una función lambda, usando REDUCE que me permita calcular el\n",
    "promedio de todos los números contenidos en la lista.\n",
    "No usar funciones tradicionales."
   ]
  },
  {
   "cell_type": "code",
   "execution_count": 24,
   "metadata": {},
   "outputs": [
    {
     "name": "stdout",
     "output_type": "stream",
     "text": [
      "El promedio de los números del 1 al 100 es:  50.5\n"
     ]
    }
   ],
   "source": [
    "from functools import reduce\n",
    "def crear_lista(n):\n",
    "    lista = []\n",
    "    for i in range(1, n+1):\n",
    "        lista.append(i)\n",
    "    return(lista)\n",
    "\n",
    "lista = crear_lista(100)\n",
    "promedio = reduce(lambda x, y: x+y, lista) / len(lista)\n",
    "\n",
    "print(\"El promedio de los números del 1 al 100 es: \", promedio)\n"
   ]
  }
 ],
 "metadata": {
  "kernelspec": {
   "display_name": "Python 3.10.4 64-bit",
   "language": "python",
   "name": "python3"
  },
  "language_info": {
   "codemirror_mode": {
    "name": "ipython",
    "version": 3
   },
   "file_extension": ".py",
   "mimetype": "text/x-python",
   "name": "python",
   "nbconvert_exporter": "python",
   "pygments_lexer": "ipython3",
   "version": "3.10.4"
  },
  "orig_nbformat": 4,
  "vscode": {
   "interpreter": {
    "hash": "4f3af63e95baa9f337f3485852209c19a89079e77d4059d54986e003d19f9689"
   }
  }
 },
 "nbformat": 4,
 "nbformat_minor": 2
}
